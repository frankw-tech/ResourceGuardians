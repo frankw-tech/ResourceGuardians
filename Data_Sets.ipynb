{
 "cells": [
  {
   "cell_type": "markdown",
   "metadata": {},
   "source": [
    "## Data Sets"
   ]
  },
  {
   "cell_type": "code",
   "execution_count": 1,
   "metadata": {},
   "outputs": [],
   "source": [
    "import warnings\n",
    "warnings.filterwarnings('ignore')"
   ]
  },
  {
   "cell_type": "markdown",
   "metadata": {},
   "source": [
    "**Load Excel Files into df dataframe and display the first 5 rows**"
   ]
  },
  {
   "cell_type": "code",
   "execution_count": 3,
   "metadata": {
    "tags": []
   },
   "outputs": [
    {
     "data": {
      "text/html": [
       "<div>\n",
       "<style scoped>\n",
       "    .dataframe tbody tr th:only-of-type {\n",
       "        vertical-align: middle;\n",
       "    }\n",
       "\n",
       "    .dataframe tbody tr th {\n",
       "        vertical-align: top;\n",
       "    }\n",
       "\n",
       "    .dataframe thead th {\n",
       "        text-align: right;\n",
       "    }\n",
       "</style>\n",
       "<table border=\"1\" class=\"dataframe\">\n",
       "  <thead>\n",
       "    <tr style=\"text-align: right;\">\n",
       "      <th></th>\n",
       "      <th>Building</th>\n",
       "      <th>Type</th>\n",
       "      <th>July kwh</th>\n",
       "      <th>Aug kwh</th>\n",
       "      <th>Sept kwh</th>\n",
       "      <th>Oct kwh</th>\n",
       "      <th>Nov kwh</th>\n",
       "    </tr>\n",
       "  </thead>\n",
       "  <tbody>\n",
       "    <tr>\n",
       "      <th>0</th>\n",
       "      <td>Gore Hall</td>\n",
       "      <td>Academic</td>\n",
       "      <td>67945.340116</td>\n",
       "      <td>64791.028650</td>\n",
       "      <td>69741.885243</td>\n",
       "      <td>72787.310758</td>\n",
       "      <td>83395.813386</td>\n",
       "    </tr>\n",
       "    <tr>\n",
       "      <th>1</th>\n",
       "      <td>Old College</td>\n",
       "      <td>Academic</td>\n",
       "      <td>19933.711882</td>\n",
       "      <td>21628.586292</td>\n",
       "      <td>22042.546761</td>\n",
       "      <td>21990.190301</td>\n",
       "      <td>21339.522446</td>\n",
       "    </tr>\n",
       "    <tr>\n",
       "      <th>2</th>\n",
       "      <td>Spencer Laboratory</td>\n",
       "      <td>Academic</td>\n",
       "      <td>95784.245937</td>\n",
       "      <td>103109.634358</td>\n",
       "      <td>97684.423195</td>\n",
       "      <td>100872.098761</td>\n",
       "      <td>110634.473390</td>\n",
       "    </tr>\n",
       "    <tr>\n",
       "      <th>3</th>\n",
       "      <td>Perkins Student Center - Verizon</td>\n",
       "      <td>Academic</td>\n",
       "      <td>48.477397</td>\n",
       "      <td>49.507060</td>\n",
       "      <td>53.215350</td>\n",
       "      <td>57.640574</td>\n",
       "      <td>59.026240</td>\n",
       "    </tr>\n",
       "    <tr>\n",
       "      <th>4</th>\n",
       "      <td>Worrilow Hall - Bldg</td>\n",
       "      <td>Academic</td>\n",
       "      <td>190699.678642</td>\n",
       "      <td>184024.424725</td>\n",
       "      <td>181012.359278</td>\n",
       "      <td>176561.768735</td>\n",
       "      <td>181372.990211</td>\n",
       "    </tr>\n",
       "  </tbody>\n",
       "</table>\n",
       "</div>"
      ],
      "text/plain": [
       "                           Building      Type       July kwh        Aug kwh  \\\n",
       "0                         Gore Hall  Academic   67945.340116   64791.028650   \n",
       "1                       Old College  Academic   19933.711882   21628.586292   \n",
       "2                Spencer Laboratory  Academic   95784.245937  103109.634358   \n",
       "3  Perkins Student Center - Verizon  Academic      48.477397      49.507060   \n",
       "4              Worrilow Hall - Bldg  Academic  190699.678642  184024.424725   \n",
       "\n",
       "        Sept kwh        Oct kwh        Nov kwh  \n",
       "0   69741.885243   72787.310758   83395.813386  \n",
       "1   22042.546761   21990.190301   21339.522446  \n",
       "2   97684.423195  100872.098761  110634.473390  \n",
       "3      53.215350      57.640574      59.026240  \n",
       "4  181012.359278  176561.768735  181372.990211  "
      ]
     },
     "execution_count": 3,
     "metadata": {},
     "output_type": "execute_result"
    }
   ],
   "source": [
    "import pandas as pd\n",
    "dfE = pd.read_excel('Electricity.xlsx')\n",
    "dfE.head()"
   ]
  },
  {
   "cell_type": "code",
   "execution_count": 4,
   "metadata": {
    "tags": []
   },
   "outputs": [
    {
     "data": {
      "text/html": [
       "<div>\n",
       "<style scoped>\n",
       "    .dataframe tbody tr th:only-of-type {\n",
       "        vertical-align: middle;\n",
       "    }\n",
       "\n",
       "    .dataframe tbody tr th {\n",
       "        vertical-align: top;\n",
       "    }\n",
       "\n",
       "    .dataframe thead th {\n",
       "        text-align: right;\n",
       "    }\n",
       "</style>\n",
       "<table border=\"1\" class=\"dataframe\">\n",
       "  <thead>\n",
       "    <tr style=\"text-align: right;\">\n",
       "      <th></th>\n",
       "      <th>University Location</th>\n",
       "      <th>Service  Address</th>\n",
       "      <th>Conectiv Acct Code</th>\n",
       "      <th>New Delmarva Account</th>\n",
       "      <th>Bldg Code</th>\n",
       "      <th>Meter #</th>\n",
       "      <th>Type</th>\n",
       "      <th>JULY cf</th>\n",
       "      <th>AUG cf</th>\n",
       "      <th>SEPT cf</th>\n",
       "      <th>OCT cf</th>\n",
       "      <th>NOV cf</th>\n",
       "      <th>TOTAL cf</th>\n",
       "      <th>Calandar 2022</th>\n",
       "    </tr>\n",
       "  </thead>\n",
       "  <tbody>\n",
       "    <tr>\n",
       "      <th>0</th>\n",
       "      <td>Spencer Laboratory</td>\n",
       "      <td>150 ACADEMY STNEWARK</td>\n",
       "      <td>2573877-9998</td>\n",
       "      <td>55011815648</td>\n",
       "      <td>NC41</td>\n",
       "      <td>8791973AGM</td>\n",
       "      <td>Acdmc</td>\n",
       "      <td>0</td>\n",
       "      <td>0</td>\n",
       "      <td>0</td>\n",
       "      <td>0</td>\n",
       "      <td>0</td>\n",
       "      <td>0</td>\n",
       "      <td>0</td>\n",
       "    </tr>\n",
       "    <tr>\n",
       "      <th>1</th>\n",
       "      <td>Trabant Cntr HRIM</td>\n",
       "      <td>17 W MAIN ST BLDG1NEWARK</td>\n",
       "      <td>2579851-9998</td>\n",
       "      <td>55006879351</td>\n",
       "      <td>NW22</td>\n",
       "      <td>13W259337DGM\\n13W259344DGM</td>\n",
       "      <td>Acdmc</td>\n",
       "      <td>34500</td>\n",
       "      <td>23900</td>\n",
       "      <td>39700</td>\n",
       "      <td>92900</td>\n",
       "      <td>139000</td>\n",
       "      <td>330000</td>\n",
       "      <td>330000</td>\n",
       "    </tr>\n",
       "    <tr>\n",
       "      <th>2</th>\n",
       "      <td>Worrilow</td>\n",
       "      <td>529 S College</td>\n",
       "      <td>304071499996</td>\n",
       "      <td>55011405267</td>\n",
       "      <td>NS61</td>\n",
       "      <td>13110312FGI</td>\n",
       "      <td>Acdmc</td>\n",
       "      <td>1002000</td>\n",
       "      <td>1467000</td>\n",
       "      <td>1644000</td>\n",
       "      <td>1811000</td>\n",
       "      <td>2204000</td>\n",
       "      <td>8128000</td>\n",
       "      <td>8128000</td>\n",
       "    </tr>\n",
       "    <tr>\n",
       "      <th>3</th>\n",
       "      <td>Perkins Scrounge</td>\n",
       "      <td>325 ACADEMY ST</td>\n",
       "      <td>2584762-9998</td>\n",
       "      <td>55002251308</td>\n",
       "      <td>NE01</td>\n",
       "      <td>9124141FGM</td>\n",
       "      <td>Dining</td>\n",
       "      <td>0</td>\n",
       "      <td>0</td>\n",
       "      <td>0</td>\n",
       "      <td>0</td>\n",
       "      <td>0</td>\n",
       "      <td>0</td>\n",
       "      <td>0</td>\n",
       "    </tr>\n",
       "    <tr>\n",
       "      <th>4</th>\n",
       "      <td>Trabant Center ARA</td>\n",
       "      <td>17 W MAIN ST BLDG2NEWARK</td>\n",
       "      <td>2579852-9998</td>\n",
       "      <td>55006879831</td>\n",
       "      <td>NW22</td>\n",
       "      <td>12T760251DGM\\n13W259345DGM</td>\n",
       "      <td>Dining</td>\n",
       "      <td>46300</td>\n",
       "      <td>39100</td>\n",
       "      <td>108900</td>\n",
       "      <td>139200</td>\n",
       "      <td>153200</td>\n",
       "      <td>486700</td>\n",
       "      <td>486700</td>\n",
       "    </tr>\n",
       "  </tbody>\n",
       "</table>\n",
       "</div>"
      ],
      "text/plain": [
       "  University Location          Service  Address Conectiv Acct Code  \\\n",
       "0  Spencer Laboratory      150 ACADEMY STNEWARK       2573877-9998   \n",
       "1   Trabant Cntr HRIM  17 W MAIN ST BLDG1NEWARK       2579851-9998   \n",
       "2            Worrilow             529 S College       304071499996   \n",
       "3    Perkins Scrounge            325 ACADEMY ST       2584762-9998   \n",
       "4  Trabant Center ARA  17 W MAIN ST BLDG2NEWARK       2579852-9998   \n",
       "\n",
       "   New Delmarva Account Bldg Code                     Meter #    Type  \\\n",
       "0           55011815648      NC41                  8791973AGM   Acdmc   \n",
       "1           55006879351      NW22  13W259337DGM\\n13W259344DGM   Acdmc   \n",
       "2           55011405267      NS61                 13110312FGI   Acdmc   \n",
       "3           55002251308      NE01                  9124141FGM  Dining   \n",
       "4           55006879831      NW22  12T760251DGM\\n13W259345DGM  Dining   \n",
       "\n",
       "   JULY cf   AUG cf  SEPT cf   OCT cf   NOV cf  TOTAL cf  Calandar 2022  \n",
       "0        0        0        0        0        0         0              0  \n",
       "1    34500    23900    39700    92900   139000    330000         330000  \n",
       "2  1002000  1467000  1644000  1811000  2204000   8128000        8128000  \n",
       "3        0        0        0        0        0         0              0  \n",
       "4    46300    39100   108900   139200   153200    486700         486700  "
      ]
     },
     "execution_count": 4,
     "metadata": {},
     "output_type": "execute_result"
    }
   ],
   "source": [
    "dfG = pd.read_excel('Gas.xlsx')\n",
    "dfG.head()"
   ]
  },
  {
   "cell_type": "code",
   "execution_count": 5,
   "metadata": {},
   "outputs": [
    {
     "data": {
      "text/html": [
       "<div>\n",
       "<style scoped>\n",
       "    .dataframe tbody tr th:only-of-type {\n",
       "        vertical-align: middle;\n",
       "    }\n",
       "\n",
       "    .dataframe tbody tr th {\n",
       "        vertical-align: top;\n",
       "    }\n",
       "\n",
       "    .dataframe thead th {\n",
       "        text-align: right;\n",
       "    }\n",
       "</style>\n",
       "<table border=\"1\" class=\"dataframe\">\n",
       "  <thead>\n",
       "    <tr style=\"text-align: right;\">\n",
       "      <th></th>\n",
       "      <th>Submeter</th>\n",
       "      <th>Submeter Reading Consumption Month FY24</th>\n",
       "      <th>Unnamed: 2</th>\n",
       "      <th>Unnamed: 3</th>\n",
       "      <th>Unnamed: 4</th>\n",
       "      <th>Unnamed: 5</th>\n",
       "    </tr>\n",
       "  </thead>\n",
       "  <tbody>\n",
       "    <tr>\n",
       "      <th>0</th>\n",
       "      <td>NaN</td>\n",
       "      <td>Jul</td>\n",
       "      <td>Aug</td>\n",
       "      <td>Sep UD</td>\n",
       "      <td>Oct</td>\n",
       "      <td>Nov</td>\n",
       "    </tr>\n",
       "    <tr>\n",
       "      <th>1</th>\n",
       "      <td>Old College</td>\n",
       "      <td>4118</td>\n",
       "      <td>3292</td>\n",
       "      <td>4005</td>\n",
       "      <td>8400</td>\n",
       "      <td>8771</td>\n",
       "    </tr>\n",
       "    <tr>\n",
       "      <th>2</th>\n",
       "      <td>Spencer Laboratory</td>\n",
       "      <td>81829</td>\n",
       "      <td>138850</td>\n",
       "      <td>240151</td>\n",
       "      <td>75965</td>\n",
       "      <td>122180</td>\n",
       "    </tr>\n",
       "    <tr>\n",
       "      <th>3</th>\n",
       "      <td>Worrilow Hall</td>\n",
       "      <td>512650</td>\n",
       "      <td>277733</td>\n",
       "      <td>1010810</td>\n",
       "      <td>616180</td>\n",
       "      <td>0</td>\n",
       "    </tr>\n",
       "  </tbody>\n",
       "</table>\n",
       "</div>"
      ],
      "text/plain": [
       "            Submeter  Submeter Reading Consumption Month FY24 Unnamed: 2  \\\n",
       "0                 NaN                                     Jul        Aug   \n",
       "1         Old College                                    4118       3292   \n",
       "2  Spencer Laboratory                                   81829     138850   \n",
       "3      Worrilow Hall                                   512650     277733   \n",
       "\n",
       "  Unnamed: 3 Unnamed: 4 Unnamed: 5  \n",
       "0     Sep UD        Oct        Nov  \n",
       "1       4005       8400       8771  \n",
       "2     240151      75965     122180  \n",
       "3    1010810     616180          0  "
      ]
     },
     "execution_count": 5,
     "metadata": {},
     "output_type": "execute_result"
    }
   ],
   "source": [
    "dfW = pd.read_excel('Water.xlsx')\n",
    "dfW.head()"
   ]
  },
  {
   "cell_type": "markdown",
   "metadata": {},
   "source": [
    "**Rename Water Excel columns**"
   ]
  },
  {
   "cell_type": "code",
   "execution_count": 6,
   "metadata": {
    "tags": []
   },
   "outputs": [
    {
     "data": {
      "text/html": [
       "<div>\n",
       "<style scoped>\n",
       "    .dataframe tbody tr th:only-of-type {\n",
       "        vertical-align: middle;\n",
       "    }\n",
       "\n",
       "    .dataframe tbody tr th {\n",
       "        vertical-align: top;\n",
       "    }\n",
       "\n",
       "    .dataframe thead th {\n",
       "        text-align: right;\n",
       "    }\n",
       "</style>\n",
       "<table border=\"1\" class=\"dataframe\">\n",
       "  <thead>\n",
       "    <tr style=\"text-align: right;\">\n",
       "      <th></th>\n",
       "      <th>Submeter</th>\n",
       "      <th>Jul</th>\n",
       "      <th>Aug</th>\n",
       "      <th>Sep</th>\n",
       "      <th>Oct</th>\n",
       "      <th>Nov</th>\n",
       "    </tr>\n",
       "  </thead>\n",
       "  <tbody>\n",
       "    <tr>\n",
       "      <th>0</th>\n",
       "      <td>NaN</td>\n",
       "      <td>Jul</td>\n",
       "      <td>Aug</td>\n",
       "      <td>Sep UD</td>\n",
       "      <td>Oct</td>\n",
       "      <td>Nov</td>\n",
       "    </tr>\n",
       "    <tr>\n",
       "      <th>1</th>\n",
       "      <td>Old College</td>\n",
       "      <td>4118</td>\n",
       "      <td>3292</td>\n",
       "      <td>4005</td>\n",
       "      <td>8400</td>\n",
       "      <td>8771</td>\n",
       "    </tr>\n",
       "    <tr>\n",
       "      <th>2</th>\n",
       "      <td>Spencer Laboratory</td>\n",
       "      <td>81829</td>\n",
       "      <td>138850</td>\n",
       "      <td>240151</td>\n",
       "      <td>75965</td>\n",
       "      <td>122180</td>\n",
       "    </tr>\n",
       "    <tr>\n",
       "      <th>3</th>\n",
       "      <td>Worrilow Hall</td>\n",
       "      <td>512650</td>\n",
       "      <td>277733</td>\n",
       "      <td>1010810</td>\n",
       "      <td>616180</td>\n",
       "      <td>0</td>\n",
       "    </tr>\n",
       "  </tbody>\n",
       "</table>\n",
       "</div>"
      ],
      "text/plain": [
       "            Submeter      Jul     Aug      Sep     Oct     Nov\n",
       "0                 NaN     Jul     Aug   Sep UD     Oct     Nov\n",
       "1         Old College    4118    3292     4005    8400    8771\n",
       "2  Spencer Laboratory   81829  138850   240151   75965  122180\n",
       "3      Worrilow Hall   512650  277733  1010810  616180       0"
      ]
     },
     "execution_count": 6,
     "metadata": {},
     "output_type": "execute_result"
    }
   ],
   "source": [
    "dfW['Jul'] = dfW['Submeter Reading Consumption Month FY24']\n",
    "dfW['Aug'] = dfW['Unnamed: 2']\n",
    "dfW['Sep'] = dfW['Unnamed: 3']\n",
    "dfW['Oct'] = dfW['Unnamed: 4']\n",
    "dfW['Nov'] = dfW['Unnamed: 5']\n",
    "\n",
    "dfW.drop('Submeter Reading Consumption Month FY24', axis=1, inplace=True)\n",
    "dfW.drop('Unnamed: 2', axis=1, inplace=True)\n",
    "dfW.drop('Unnamed: 3', axis=1, inplace=True)\n",
    "dfW.drop('Unnamed: 4', axis=1, inplace=True)\n",
    "dfW.drop('Unnamed: 5', axis=1, inplace=True)\n",
    "\n",
    "dfW.head()"
   ]
  },
  {
   "cell_type": "markdown",
   "metadata": {},
   "source": [
    "**Drop the first row of an Excel file**"
   ]
  },
  {
   "cell_type": "code",
   "execution_count": 7,
   "metadata": {
    "tags": []
   },
   "outputs": [
    {
     "data": {
      "text/html": [
       "<div>\n",
       "<style scoped>\n",
       "    .dataframe tbody tr th:only-of-type {\n",
       "        vertical-align: middle;\n",
       "    }\n",
       "\n",
       "    .dataframe tbody tr th {\n",
       "        vertical-align: top;\n",
       "    }\n",
       "\n",
       "    .dataframe thead th {\n",
       "        text-align: right;\n",
       "    }\n",
       "</style>\n",
       "<table border=\"1\" class=\"dataframe\">\n",
       "  <thead>\n",
       "    <tr style=\"text-align: right;\">\n",
       "      <th></th>\n",
       "      <th>Submeter</th>\n",
       "      <th>Jul</th>\n",
       "      <th>Aug</th>\n",
       "      <th>Sep</th>\n",
       "      <th>Oct</th>\n",
       "      <th>Nov</th>\n",
       "    </tr>\n",
       "  </thead>\n",
       "  <tbody>\n",
       "    <tr>\n",
       "      <th>1</th>\n",
       "      <td>Old College</td>\n",
       "      <td>4118</td>\n",
       "      <td>3292</td>\n",
       "      <td>4005</td>\n",
       "      <td>8400</td>\n",
       "      <td>8771</td>\n",
       "    </tr>\n",
       "    <tr>\n",
       "      <th>2</th>\n",
       "      <td>Spencer Laboratory</td>\n",
       "      <td>81829</td>\n",
       "      <td>138850</td>\n",
       "      <td>240151</td>\n",
       "      <td>75965</td>\n",
       "      <td>122180</td>\n",
       "    </tr>\n",
       "    <tr>\n",
       "      <th>3</th>\n",
       "      <td>Worrilow Hall</td>\n",
       "      <td>512650</td>\n",
       "      <td>277733</td>\n",
       "      <td>1010810</td>\n",
       "      <td>616180</td>\n",
       "      <td>0</td>\n",
       "    </tr>\n",
       "  </tbody>\n",
       "</table>\n",
       "</div>"
      ],
      "text/plain": [
       "            Submeter      Jul     Aug      Sep     Oct     Nov\n",
       "1         Old College    4118    3292     4005    8400    8771\n",
       "2  Spencer Laboratory   81829  138850   240151   75965  122180\n",
       "3      Worrilow Hall   512650  277733  1010810  616180       0"
      ]
     },
     "execution_count": 7,
     "metadata": {},
     "output_type": "execute_result"
    }
   ],
   "source": [
    "dfW = dfW.drop(dfW.index[0])\n",
    "dfW.head()"
   ]
  },
  {
   "cell_type": "markdown",
   "metadata": {},
   "source": [
    "**Take a deep copy of dfE and save it to dfE1**\n",
    "**Take a deep copy of dfG and save it to dfG1**\n",
    "**Take a deep copy of dfW and save it to dfW1**"
   ]
  },
  {
   "cell_type": "code",
   "execution_count": 8,
   "metadata": {
    "tags": []
   },
   "outputs": [],
   "source": [
    "dfE1 = dfE.copy()\n",
    "dfG1 = dfG.copy()\n",
    "dfW1 = dfW.copy()"
   ]
  },
  {
   "cell_type": "markdown",
   "metadata": {},
   "source": [
    "**Import required libraries for visualization (matplotlib and seaborn)**"
   ]
  },
  {
   "cell_type": "code",
   "execution_count": 9,
   "metadata": {
    "tags": []
   },
   "outputs": [],
   "source": [
    "import matplotlib.pyplot as plt\n",
    "import seaborn as sns"
   ]
  },
  {
   "cell_type": "markdown",
   "metadata": {},
   "source": [
    "**Display the shape (number of rows and number of columns) of the dataframe**"
   ]
  },
  {
   "cell_type": "code",
   "execution_count": 10,
   "metadata": {
    "tags": []
   },
   "outputs": [
    {
     "data": {
      "text/plain": [
       "(8, 7)"
      ]
     },
     "execution_count": 10,
     "metadata": {},
     "output_type": "execute_result"
    }
   ],
   "source": [
    "dfE1.shape"
   ]
  },
  {
   "cell_type": "markdown",
   "metadata": {
    "tags": []
   },
   "source": [
    "**Display the list of columns in the df dataframe**"
   ]
  },
  {
   "cell_type": "code",
   "execution_count": 11,
   "metadata": {
    "tags": []
   },
   "outputs": [
    {
     "name": "stdout",
     "output_type": "stream",
     "text": [
      "Index(['Building', 'Type', 'July kwh', 'Aug kwh', 'Sept kwh', 'Oct kwh',\n",
      "       'Nov kwh'],\n",
      "      dtype='object')\n",
      "Index(['University Location', 'Service  Address', 'Conectiv Acct Code',\n",
      "       'New Delmarva Account', 'Bldg Code', 'Meter #', 'Type', 'JULY cf',\n",
      "       'AUG cf', 'SEPT cf', 'OCT cf', 'NOV cf', 'TOTAL cf', 'Calandar 2022'],\n",
      "      dtype='object')\n",
      "Index(['Submeter ', 'Jul', 'Aug', 'Sep', 'Oct', 'Nov'], dtype='object')\n"
     ]
    }
   ],
   "source": [
    "print(dfE1.columns)\n",
    "print(dfG1.columns)\n",
    "print(dfW1.columns)"
   ]
  },
  {
   "cell_type": "markdown",
   "metadata": {},
   "source": [
    "**Display how many missing values we have in each column in df1 dataframe**"
   ]
  },
  {
   "cell_type": "code",
   "execution_count": 12,
   "metadata": {
    "tags": []
   },
   "outputs": [
    {
     "data": {
      "text/plain": [
       "Building    0\n",
       "Type        0\n",
       "July kwh    0\n",
       "Aug kwh     0\n",
       "Sept kwh    0\n",
       "Oct kwh     0\n",
       "Nov kwh     0\n",
       "dtype: int64"
      ]
     },
     "execution_count": 12,
     "metadata": {},
     "output_type": "execute_result"
    }
   ],
   "source": [
    "dfE1.isnull().sum()"
   ]
  },
  {
   "cell_type": "markdown",
   "metadata": {},
   "source": [
    "**Drop the rows that have missing values**"
   ]
  },
  {
   "cell_type": "code",
   "execution_count": 13,
   "metadata": {},
   "outputs": [],
   "source": [
    "dfE1 = dfE1.dropna() "
   ]
  },
  {
   "cell_type": "markdown",
   "metadata": {},
   "source": [
    "**Display how many missing values we have in each column in df1 dataframe**"
   ]
  },
  {
   "cell_type": "code",
   "execution_count": 14,
   "metadata": {
    "tags": []
   },
   "outputs": [
    {
     "data": {
      "text/plain": [
       "Building    0\n",
       "Type        0\n",
       "July kwh    0\n",
       "Aug kwh     0\n",
       "Sept kwh    0\n",
       "Oct kwh     0\n",
       "Nov kwh     0\n",
       "dtype: int64"
      ]
     },
     "execution_count": 14,
     "metadata": {},
     "output_type": "execute_result"
    }
   ],
   "source": [
    "dfE1.isnull().sum()"
   ]
  },
  {
   "cell_type": "markdown",
   "metadata": {},
   "source": [
    "**Create a new column 'Average Electricity'**"
   ]
  },
  {
   "cell_type": "code",
   "execution_count": 15,
   "metadata": {
    "tags": []
   },
   "outputs": [
    {
     "data": {
      "text/html": [
       "<div>\n",
       "<style scoped>\n",
       "    .dataframe tbody tr th:only-of-type {\n",
       "        vertical-align: middle;\n",
       "    }\n",
       "\n",
       "    .dataframe tbody tr th {\n",
       "        vertical-align: top;\n",
       "    }\n",
       "\n",
       "    .dataframe thead th {\n",
       "        text-align: right;\n",
       "    }\n",
       "</style>\n",
       "<table border=\"1\" class=\"dataframe\">\n",
       "  <thead>\n",
       "    <tr style=\"text-align: right;\">\n",
       "      <th></th>\n",
       "      <th>Building</th>\n",
       "      <th>Type</th>\n",
       "      <th>July kwh</th>\n",
       "      <th>Aug kwh</th>\n",
       "      <th>Sept kwh</th>\n",
       "      <th>Oct kwh</th>\n",
       "      <th>Nov kwh</th>\n",
       "      <th>Total Electricity</th>\n",
       "      <th>Average Electricity</th>\n",
       "    </tr>\n",
       "  </thead>\n",
       "  <tbody>\n",
       "    <tr>\n",
       "      <th>0</th>\n",
       "      <td>Gore Hall</td>\n",
       "      <td>Academic</td>\n",
       "      <td>67945.340116</td>\n",
       "      <td>64791.028650</td>\n",
       "      <td>69741.885243</td>\n",
       "      <td>72787.310758</td>\n",
       "      <td>83395.813386</td>\n",
       "      <td>358661.378152</td>\n",
       "      <td>71732.275630</td>\n",
       "    </tr>\n",
       "    <tr>\n",
       "      <th>1</th>\n",
       "      <td>Old College</td>\n",
       "      <td>Academic</td>\n",
       "      <td>19933.711882</td>\n",
       "      <td>21628.586292</td>\n",
       "      <td>22042.546761</td>\n",
       "      <td>21990.190301</td>\n",
       "      <td>21339.522446</td>\n",
       "      <td>106934.557682</td>\n",
       "      <td>21386.911536</td>\n",
       "    </tr>\n",
       "    <tr>\n",
       "      <th>2</th>\n",
       "      <td>Spencer Laboratory</td>\n",
       "      <td>Academic</td>\n",
       "      <td>95784.245937</td>\n",
       "      <td>103109.634358</td>\n",
       "      <td>97684.423195</td>\n",
       "      <td>100872.098761</td>\n",
       "      <td>110634.473390</td>\n",
       "      <td>508084.875641</td>\n",
       "      <td>101616.975128</td>\n",
       "    </tr>\n",
       "    <tr>\n",
       "      <th>3</th>\n",
       "      <td>Perkins Student Center - Verizon</td>\n",
       "      <td>Academic</td>\n",
       "      <td>48.477397</td>\n",
       "      <td>49.507060</td>\n",
       "      <td>53.215350</td>\n",
       "      <td>57.640574</td>\n",
       "      <td>59.026240</td>\n",
       "      <td>267.866621</td>\n",
       "      <td>53.573324</td>\n",
       "    </tr>\n",
       "    <tr>\n",
       "      <th>4</th>\n",
       "      <td>Worrilow Hall - Bldg</td>\n",
       "      <td>Academic</td>\n",
       "      <td>190699.678642</td>\n",
       "      <td>184024.424725</td>\n",
       "      <td>181012.359278</td>\n",
       "      <td>176561.768735</td>\n",
       "      <td>181372.990211</td>\n",
       "      <td>913671.221591</td>\n",
       "      <td>182734.244318</td>\n",
       "    </tr>\n",
       "  </tbody>\n",
       "</table>\n",
       "</div>"
      ],
      "text/plain": [
       "                           Building      Type       July kwh        Aug kwh  \\\n",
       "0                         Gore Hall  Academic   67945.340116   64791.028650   \n",
       "1                       Old College  Academic   19933.711882   21628.586292   \n",
       "2                Spencer Laboratory  Academic   95784.245937  103109.634358   \n",
       "3  Perkins Student Center - Verizon  Academic      48.477397      49.507060   \n",
       "4              Worrilow Hall - Bldg  Academic  190699.678642  184024.424725   \n",
       "\n",
       "        Sept kwh        Oct kwh        Nov kwh  Total Electricity  \\\n",
       "0   69741.885243   72787.310758   83395.813386      358661.378152   \n",
       "1   22042.546761   21990.190301   21339.522446      106934.557682   \n",
       "2   97684.423195  100872.098761  110634.473390      508084.875641   \n",
       "3      53.215350      57.640574      59.026240         267.866621   \n",
       "4  181012.359278  176561.768735  181372.990211      913671.221591   \n",
       "\n",
       "   Average Electricity  \n",
       "0         71732.275630  \n",
       "1         21386.911536  \n",
       "2        101616.975128  \n",
       "3            53.573324  \n",
       "4        182734.244318  "
      ]
     },
     "execution_count": 15,
     "metadata": {},
     "output_type": "execute_result"
    }
   ],
   "source": [
    "dfE1['Total Electricity'] = dfE1['July kwh'] + dfE1['Aug kwh'] + dfE1['Sept kwh'] + dfE1['Oct kwh'] + dfE1['Nov kwh'] \n",
    "dfE1['Average Electricity'] = dfE1['Total Electricity']/5\n",
    "dfE1.head()"
   ]
  },
  {
   "cell_type": "markdown",
   "metadata": {},
   "source": [
    "**Create a new column 'Average Gas'**"
   ]
  },
  {
   "cell_type": "code",
   "execution_count": 16,
   "metadata": {
    "tags": []
   },
   "outputs": [
    {
     "data": {
      "text/html": [
       "<div>\n",
       "<style scoped>\n",
       "    .dataframe tbody tr th:only-of-type {\n",
       "        vertical-align: middle;\n",
       "    }\n",
       "\n",
       "    .dataframe tbody tr th {\n",
       "        vertical-align: top;\n",
       "    }\n",
       "\n",
       "    .dataframe thead th {\n",
       "        text-align: right;\n",
       "    }\n",
       "</style>\n",
       "<table border=\"1\" class=\"dataframe\">\n",
       "  <thead>\n",
       "    <tr style=\"text-align: right;\">\n",
       "      <th></th>\n",
       "      <th>University Location</th>\n",
       "      <th>Service  Address</th>\n",
       "      <th>Conectiv Acct Code</th>\n",
       "      <th>New Delmarva Account</th>\n",
       "      <th>Bldg Code</th>\n",
       "      <th>Meter #</th>\n",
       "      <th>Type</th>\n",
       "      <th>JULY cf</th>\n",
       "      <th>AUG cf</th>\n",
       "      <th>SEPT cf</th>\n",
       "      <th>OCT cf</th>\n",
       "      <th>NOV cf</th>\n",
       "      <th>TOTAL cf</th>\n",
       "      <th>Calandar 2022</th>\n",
       "      <th>Average Gas</th>\n",
       "    </tr>\n",
       "  </thead>\n",
       "  <tbody>\n",
       "    <tr>\n",
       "      <th>0</th>\n",
       "      <td>Spencer Laboratory</td>\n",
       "      <td>150 ACADEMY STNEWARK</td>\n",
       "      <td>2573877-9998</td>\n",
       "      <td>55011815648</td>\n",
       "      <td>NC41</td>\n",
       "      <td>8791973AGM</td>\n",
       "      <td>Acdmc</td>\n",
       "      <td>0</td>\n",
       "      <td>0</td>\n",
       "      <td>0</td>\n",
       "      <td>0</td>\n",
       "      <td>0</td>\n",
       "      <td>0</td>\n",
       "      <td>0</td>\n",
       "      <td>0.0</td>\n",
       "    </tr>\n",
       "    <tr>\n",
       "      <th>1</th>\n",
       "      <td>Trabant Cntr HRIM</td>\n",
       "      <td>17 W MAIN ST BLDG1NEWARK</td>\n",
       "      <td>2579851-9998</td>\n",
       "      <td>55006879351</td>\n",
       "      <td>NW22</td>\n",
       "      <td>13W259337DGM\\n13W259344DGM</td>\n",
       "      <td>Acdmc</td>\n",
       "      <td>34500</td>\n",
       "      <td>23900</td>\n",
       "      <td>39700</td>\n",
       "      <td>92900</td>\n",
       "      <td>139000</td>\n",
       "      <td>330000</td>\n",
       "      <td>330000</td>\n",
       "      <td>66000.0</td>\n",
       "    </tr>\n",
       "    <tr>\n",
       "      <th>2</th>\n",
       "      <td>Worrilow</td>\n",
       "      <td>529 S College</td>\n",
       "      <td>304071499996</td>\n",
       "      <td>55011405267</td>\n",
       "      <td>NS61</td>\n",
       "      <td>13110312FGI</td>\n",
       "      <td>Acdmc</td>\n",
       "      <td>1002000</td>\n",
       "      <td>1467000</td>\n",
       "      <td>1644000</td>\n",
       "      <td>1811000</td>\n",
       "      <td>2204000</td>\n",
       "      <td>8128000</td>\n",
       "      <td>8128000</td>\n",
       "      <td>1625600.0</td>\n",
       "    </tr>\n",
       "    <tr>\n",
       "      <th>3</th>\n",
       "      <td>Perkins Scrounge</td>\n",
       "      <td>325 ACADEMY ST</td>\n",
       "      <td>2584762-9998</td>\n",
       "      <td>55002251308</td>\n",
       "      <td>NE01</td>\n",
       "      <td>9124141FGM</td>\n",
       "      <td>Dining</td>\n",
       "      <td>0</td>\n",
       "      <td>0</td>\n",
       "      <td>0</td>\n",
       "      <td>0</td>\n",
       "      <td>0</td>\n",
       "      <td>0</td>\n",
       "      <td>0</td>\n",
       "      <td>0.0</td>\n",
       "    </tr>\n",
       "    <tr>\n",
       "      <th>4</th>\n",
       "      <td>Trabant Center ARA</td>\n",
       "      <td>17 W MAIN ST BLDG2NEWARK</td>\n",
       "      <td>2579852-9998</td>\n",
       "      <td>55006879831</td>\n",
       "      <td>NW22</td>\n",
       "      <td>12T760251DGM\\n13W259345DGM</td>\n",
       "      <td>Dining</td>\n",
       "      <td>46300</td>\n",
       "      <td>39100</td>\n",
       "      <td>108900</td>\n",
       "      <td>139200</td>\n",
       "      <td>153200</td>\n",
       "      <td>486700</td>\n",
       "      <td>486700</td>\n",
       "      <td>97340.0</td>\n",
       "    </tr>\n",
       "  </tbody>\n",
       "</table>\n",
       "</div>"
      ],
      "text/plain": [
       "  University Location          Service  Address Conectiv Acct Code  \\\n",
       "0  Spencer Laboratory      150 ACADEMY STNEWARK       2573877-9998   \n",
       "1   Trabant Cntr HRIM  17 W MAIN ST BLDG1NEWARK       2579851-9998   \n",
       "2            Worrilow             529 S College       304071499996   \n",
       "3    Perkins Scrounge            325 ACADEMY ST       2584762-9998   \n",
       "4  Trabant Center ARA  17 W MAIN ST BLDG2NEWARK       2579852-9998   \n",
       "\n",
       "   New Delmarva Account Bldg Code                     Meter #    Type  \\\n",
       "0           55011815648      NC41                  8791973AGM   Acdmc   \n",
       "1           55006879351      NW22  13W259337DGM\\n13W259344DGM   Acdmc   \n",
       "2           55011405267      NS61                 13110312FGI   Acdmc   \n",
       "3           55002251308      NE01                  9124141FGM  Dining   \n",
       "4           55006879831      NW22  12T760251DGM\\n13W259345DGM  Dining   \n",
       "\n",
       "   JULY cf   AUG cf  SEPT cf   OCT cf   NOV cf  TOTAL cf  Calandar 2022  \\\n",
       "0        0        0        0        0        0         0              0   \n",
       "1    34500    23900    39700    92900   139000    330000         330000   \n",
       "2  1002000  1467000  1644000  1811000  2204000   8128000        8128000   \n",
       "3        0        0        0        0        0         0              0   \n",
       "4    46300    39100   108900   139200   153200    486700         486700   \n",
       "\n",
       "   Average Gas  \n",
       "0          0.0  \n",
       "1      66000.0  \n",
       "2    1625600.0  \n",
       "3          0.0  \n",
       "4      97340.0  "
      ]
     },
     "execution_count": 16,
     "metadata": {},
     "output_type": "execute_result"
    }
   ],
   "source": [
    "dfG1['Average Gas'] = dfG1['TOTAL cf']/5\n",
    "dfG1.head()"
   ]
  },
  {
   "cell_type": "markdown",
   "metadata": {},
   "source": [
    "**Create a new column 'Average Water'**"
   ]
  },
  {
   "cell_type": "code",
   "execution_count": 27,
   "metadata": {
    "tags": []
   },
   "outputs": [
    {
     "data": {
      "text/plain": [
       "1      4118\n",
       "2     81829\n",
       "3    512650\n",
       "Name: Jul, dtype: int32"
      ]
     },
     "execution_count": 27,
     "metadata": {},
     "output_type": "execute_result"
    }
   ],
   "source": [
    "dfW1['Jul']"
   ]
  },
  {
   "cell_type": "code",
   "execution_count": 28,
   "metadata": {
    "tags": []
   },
   "outputs": [],
   "source": [
    "dfW1['Jul'] = dfW1['Jul'].astype(int)"
   ]
  },
  {
   "cell_type": "code",
   "execution_count": 29,
   "metadata": {
    "tags": []
   },
   "outputs": [
    {
     "data": {
      "text/html": [
       "<div>\n",
       "<style scoped>\n",
       "    .dataframe tbody tr th:only-of-type {\n",
       "        vertical-align: middle;\n",
       "    }\n",
       "\n",
       "    .dataframe tbody tr th {\n",
       "        vertical-align: top;\n",
       "    }\n",
       "\n",
       "    .dataframe thead th {\n",
       "        text-align: right;\n",
       "    }\n",
       "</style>\n",
       "<table border=\"1\" class=\"dataframe\">\n",
       "  <thead>\n",
       "    <tr style=\"text-align: right;\">\n",
       "      <th></th>\n",
       "      <th>Submeter</th>\n",
       "      <th>Jul</th>\n",
       "      <th>Aug</th>\n",
       "      <th>Sep</th>\n",
       "      <th>Oct</th>\n",
       "      <th>Nov</th>\n",
       "      <th>Total Water</th>\n",
       "      <th>Average Water</th>\n",
       "    </tr>\n",
       "  </thead>\n",
       "  <tbody>\n",
       "    <tr>\n",
       "      <th>1</th>\n",
       "      <td>Old College</td>\n",
       "      <td>4118</td>\n",
       "      <td>3292</td>\n",
       "      <td>4005</td>\n",
       "      <td>8400</td>\n",
       "      <td>8771</td>\n",
       "      <td>28586</td>\n",
       "      <td>5717.2</td>\n",
       "    </tr>\n",
       "    <tr>\n",
       "      <th>2</th>\n",
       "      <td>Spencer Laboratory</td>\n",
       "      <td>81829</td>\n",
       "      <td>138850</td>\n",
       "      <td>240151</td>\n",
       "      <td>75965</td>\n",
       "      <td>122180</td>\n",
       "      <td>658975</td>\n",
       "      <td>131795.0</td>\n",
       "    </tr>\n",
       "    <tr>\n",
       "      <th>3</th>\n",
       "      <td>Worrilow Hall</td>\n",
       "      <td>512650</td>\n",
       "      <td>277733</td>\n",
       "      <td>1010810</td>\n",
       "      <td>616180</td>\n",
       "      <td>0</td>\n",
       "      <td>2417373</td>\n",
       "      <td>483474.6</td>\n",
       "    </tr>\n",
       "  </tbody>\n",
       "</table>\n",
       "</div>"
      ],
      "text/plain": [
       "            Submeter      Jul     Aug      Sep     Oct     Nov Total Water  \\\n",
       "1         Old College    4118    3292     4005    8400    8771       28586   \n",
       "2  Spencer Laboratory   81829  138850   240151   75965  122180      658975   \n",
       "3      Worrilow Hall   512650  277733  1010810  616180       0     2417373   \n",
       "\n",
       "  Average Water  \n",
       "1        5717.2  \n",
       "2      131795.0  \n",
       "3      483474.6  "
      ]
     },
     "execution_count": 29,
     "metadata": {},
     "output_type": "execute_result"
    }
   ],
   "source": [
    "dfW1['Total Water'] = dfW1['Jul'] + dfW1['Aug'] + dfW1['Sep'] + dfW1['Oct'] + dfW1['Nov'] \n",
    "dfW1['Average Water'] = dfW1['Total Water']/5\n",
    "dfW1.head()"
   ]
  },
  {
   "cell_type": "code",
   "execution_count": 30,
   "metadata": {},
   "outputs": [
    {
     "data": {
      "image/png": "[encoded data removed]",
      "text/plain": [
       "<Figure size 1000x600 with 1 Axes>"
      ]
     },
     "metadata": {},
     "output_type": "display_data"
    }
   ],
   "source": [
    "import matplotlib.pyplot as plt\n",
    "\n",
    "buildings = dfE1['Building']\n",
    "total_electricity = dfE1['Total Electricity']\n",
    "\n",
    "plt.figure(figsize=(10, 6))\n",
    "plt.bar(buildings, total_electricity, color='skyblue')\n",
    "plt.xlabel('Building Name')\n",
    "plt.ylabel('Total Electricity (kWh)')\n",
    "plt.title('Total Electricity Consumption by Building')\n",
    "plt.xticks(rotation=45)\n",
    "plt.tight_layout()\n",
    "\n",
    "plt.show()\n"
   ]
  },
  {
   "cell_type": "code",
   "execution_count": 31,
   "metadata": {},
   "outputs": [
    {
     "data": {
      "image/png": "[encoded data removed]",
      "text/plain": [
       "<Figure size 1000x600 with 1 Axes>"
      ]
     },
     "metadata": {},
     "output_type": "display_data"
    }
   ],
   "source": [
    "import matplotlib.pyplot as plt\n",
    "\n",
    "locations = dfG1['University Location']\n",
    "total_gas = dfG1['TOTAL cf']\n",
    "\n",
    "plt.figure(figsize=(10, 6))\n",
    "plt.bar(locations, total_gas, color='green')\n",
    "plt.xlabel('University Location')\n",
    "plt.ylabel('Total Gas Consumption (cf)')\n",
    "plt.title('Total Gas Consumption by University Location')\n",
    "plt.xticks(rotation=45)\n",
    "plt.tight_layout()\n",
    "\n",
    "plt.show()\n"
   ]
  },
  {
   "cell_type": "code",
   "execution_count": 36,
   "metadata": {},
   "outputs": [
    {
     "data": {
      "image/png": "[encoded data removed]",
      "text/plain": [
       "<Figure size 1000x600 with 1 Axes>"
      ]
     },
     "metadata": {},
     "output_type": "display_data"
    }
   ],
   "source": [
    "import matplotlib.pyplot as plt\n",
    "\n",
    "submeters = dfW1['Submeter ']\n",
    "total_water = dfW1['Total Water']\n",
    "\n",
    "plt.figure(figsize=(10, 6))\n",
    "plt.bar(submeters, total_water, color='teal')\n",
    "plt.xlabel('Submeter')\n",
    "plt.ylabel('Total Water Consumption')\n",
    "plt.title('Total Water Consumption by Submeter')\n",
    "plt.xticks(rotation=45)\n",
    "plt.tight_layout()\n",
    "\n",
    "plt.show()\n"
   ]
  }
 ],
 "metadata": {
  "kernelspec": {
   "display_name": "Python 3 (ipykernel)",
   "language": "python",
   "name": "python3"
  },
  "language_info": {
   "codemirror_mode": {
    "name": "ipython",
    "version": 3
   },
   "file_extension": ".py",
   "mimetype": "text/x-python",
   "name": "python",
   "nbconvert_exporter": "python",
   "pygments_lexer": "ipython3",
   "version": "3.11.4"
  }
 },
 "nbformat": 4,
 "nbformat_minor": 4
}
