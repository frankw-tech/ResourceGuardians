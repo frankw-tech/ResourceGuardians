{
 "cells": [
  {
   "cell_type": "markdown",
   "metadata": {},
   "source": [
    "## Sample Graph"
   ]
  },
  {
   "cell_type": "code",
   "execution_count": 1,
   "metadata": {},
   "outputs": [],
   "source": [
    "import warnings\n",
    "warnings.filterwarnings('ignore')"
   ]
  },
  {
   "cell_type": "markdown",
   "metadata": {},
   "source": [
    "**Load bike-sales CSV File into df dataframe and display the first 5 rows**"
   ]
  },
  {
   "cell_type": "code",
   "execution_count": 2,
   "metadata": {
    "tags": []
   },
   "outputs": [
    {
     "data": {
      "text/html": [
       "<div>\n",
       "<style scoped>\n",
       "    .dataframe tbody tr th:only-of-type {\n",
       "        vertical-align: middle;\n",
       "    }\n",
       "\n",
       "    .dataframe tbody tr th {\n",
       "        vertical-align: top;\n",
       "    }\n",
       "\n",
       "    .dataframe thead th {\n",
       "        text-align: right;\n",
       "    }\n",
       "</style>\n",
       "<table border=\"1\" class=\"dataframe\">\n",
       "  <thead>\n",
       "    <tr style=\"text-align: right;\">\n",
       "      <th></th>\n",
       "      <th>Building Name</th>\n",
       "      <th>Electricity</th>\n",
       "      <th>Water</th>\n",
       "      <th>Steam</th>\n",
       "      <th>Type of Usage</th>\n",
       "      <th>Building Age</th>\n",
       "      <th>Square Footage</th>\n",
       "      <th>Seasonality</th>\n",
       "      <th>Unnamed: 8</th>\n",
       "    </tr>\n",
       "  </thead>\n",
       "  <tbody>\n",
       "    <tr>\n",
       "      <th>0</th>\n",
       "      <td>Gore Hall</td>\n",
       "      <td>1000</td>\n",
       "      <td>500</td>\n",
       "      <td>200</td>\n",
       "      <td>Teaching</td>\n",
       "      <td>1920</td>\n",
       "      <td>2000</td>\n",
       "      <td>Regular</td>\n",
       "      <td>NaN</td>\n",
       "    </tr>\n",
       "    <tr>\n",
       "      <th>1</th>\n",
       "      <td>Smith Hall</td>\n",
       "      <td>1500</td>\n",
       "      <td>1000</td>\n",
       "      <td>300</td>\n",
       "      <td>Teaching</td>\n",
       "      <td>1930</td>\n",
       "      <td>3000</td>\n",
       "      <td>Regular</td>\n",
       "      <td>NaN</td>\n",
       "    </tr>\n",
       "    <tr>\n",
       "      <th>2</th>\n",
       "      <td>Morris Lib</td>\n",
       "      <td>2000</td>\n",
       "      <td>2000</td>\n",
       "      <td>400</td>\n",
       "      <td>Resource</td>\n",
       "      <td>1940</td>\n",
       "      <td>1500</td>\n",
       "      <td>Regular</td>\n",
       "      <td>NaN</td>\n",
       "    </tr>\n",
       "    <tr>\n",
       "      <th>3</th>\n",
       "      <td>Independent Hall</td>\n",
       "      <td>500</td>\n",
       "      <td>800</td>\n",
       "      <td>500</td>\n",
       "      <td>Dorm</td>\n",
       "      <td>1950</td>\n",
       "      <td>2050</td>\n",
       "      <td>Regular</td>\n",
       "      <td>NaN</td>\n",
       "    </tr>\n",
       "    <tr>\n",
       "      <th>4</th>\n",
       "      <td>James Smith Hall</td>\n",
       "      <td>300</td>\n",
       "      <td>600</td>\n",
       "      <td>600</td>\n",
       "      <td>Dorm</td>\n",
       "      <td>1960</td>\n",
       "      <td>3200</td>\n",
       "      <td>Regular</td>\n",
       "      <td>NaN</td>\n",
       "    </tr>\n",
       "  </tbody>\n",
       "</table>\n",
       "</div>"
      ],
      "text/plain": [
       "      Building Name  Electricity   Water  Steam Type of Usage  Building Age  \\\n",
       "0         Gore Hall          1000    500    200      Teaching          1920   \n",
       "1        Smith Hall          1500   1000    300      Teaching          1930   \n",
       "2        Morris Lib          2000   2000    400      Resource          1940   \n",
       "3  Independent Hall           500    800    500          Dorm          1950   \n",
       "4  James Smith Hall           300    600    600          Dorm          1960   \n",
       "\n",
       "   Square Footage Seasonality  Unnamed: 8  \n",
       "0            2000     Regular         NaN  \n",
       "1            3000     Regular         NaN  \n",
       "2            1500     Regular         NaN  \n",
       "3            2050     Regular         NaN  \n",
       "4            3200     Regular         NaN  "
      ]
     },
     "execution_count": 2,
     "metadata": {},
     "output_type": "execute_result"
    }
   ],
   "source": [
    "import pandas as pd\n",
    "df = pd.read_csv('Sample.csv')\n",
    "df.head()"
   ]
  },
  {
   "cell_type": "markdown",
   "metadata": {},
   "source": [
    "**Take a deep copy of df and save it to df1**"
   ]
  },
  {
   "cell_type": "code",
   "execution_count": 3,
   "metadata": {
    "tags": []
   },
   "outputs": [],
   "source": [
    "df1=df.copy()"
   ]
  },
  {
   "cell_type": "markdown",
   "metadata": {},
   "source": [
    "**Import required libraries for visualization (matplotlib and seaborn)**"
   ]
  },
  {
   "cell_type": "code",
   "execution_count": 4,
   "metadata": {
    "tags": []
   },
   "outputs": [],
   "source": [
    "import matplotlib.pyplot as plt\n",
    "import seaborn as sns"
   ]
  }
 ],
 "metadata": {
  "kernelspec": {
   "display_name": "Python 3",
   "language": "python",
   "name": "python3"
  },
  "language_info": {
   "codemirror_mode": {
    "name": "ipython",
    "version": 3
   },
   "file_extension": ".py",
   "mimetype": "text/x-python",
   "name": "python",
   "nbconvert_exporter": "python",
   "pygments_lexer": "ipython3",
   "version": "3.11.4"
  }
 },
 "nbformat": 4,
 "nbformat_minor": 4
}
